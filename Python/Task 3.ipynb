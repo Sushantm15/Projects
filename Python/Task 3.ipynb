{
 "cells": [
  {
   "cell_type": "code",
   "execution_count": 1,
   "id": "f91db804-3352-4158-afa9-58448642703f",
   "metadata": {},
   "outputs": [],
   "source": [
    "#Find the First Non-Repeating Character"
   ]
  },
  {
   "cell_type": "code",
   "execution_count": 6,
   "id": "35aa3371-b0cc-4b3d-a92b-0386cd065927",
   "metadata": {},
   "outputs": [],
   "source": [
    "def nonRepeatingChar(s):\n",
    "    n = len(s)\n",
    "\n",
    "    for i in range(n):\n",
    "        found = False\n",
    "        for j in range(n):\n",
    "            if i != j and s[i] == s[j]:\n",
    "                found = True\n",
    "                break\n",
    "        if not found:\n",
    "            return s[i]\n",
    "\n",
    "    return '$'"
   ]
  },
  {
   "cell_type": "code",
   "execution_count": 7,
   "id": "315da283-d53b-4fbf-8b04-7b99c1f8268c",
   "metadata": {},
   "outputs": [
    {
     "name": "stdout",
     "output_type": "stream",
     "text": [
      "e\n"
     ]
    }
   ],
   "source": [
    "    s = \"racecar\"\n",
    "    print(nonRepeatingChar(s))  "
   ]
  }
 ],
 "metadata": {
  "kernelspec": {
   "display_name": "Python 3 (ipykernel)",
   "language": "python",
   "name": "python3"
  },
  "language_info": {
   "codemirror_mode": {
    "name": "ipython",
    "version": 3
   },
   "file_extension": ".py",
   "mimetype": "text/x-python",
   "name": "python",
   "nbconvert_exporter": "python",
   "pygments_lexer": "ipython3",
   "version": "3.11.7"
  }
 },
 "nbformat": 4,
 "nbformat_minor": 5
}

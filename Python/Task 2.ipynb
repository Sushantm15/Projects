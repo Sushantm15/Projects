{
 "cells": [
  {
   "cell_type": "code",
   "execution_count": 1,
   "id": "c98339af-169b-46e5-aca3-b7b583b849cd",
   "metadata": {},
   "outputs": [],
   "source": [
    "#Valid Parentheses Checker"
   ]
  },
  {
   "cell_type": "code",
   "execution_count": 2,
   "id": "f4e3f7db-be86-4d17-96a7-b5f03c0da1e0",
   "metadata": {},
   "outputs": [],
   "source": [
    "class Solution:\n",
    "    def isValid(self, s):\n",
    "        stack = []\n",
    "        mapping = {')': '(', '}': '{', ']': '['}\n",
    "        \n",
    "        for char in s:\n",
    "            if char in mapping.values():\n",
    "                stack.append(char)\n",
    "            elif char in mapping:\n",
    "                if not stack or stack.pop() != mapping[char]:\n",
    "                    return False\n",
    "            else:\n",
    "                return False\n",
    "        \n",
    "        return not stack"
   ]
  },
  {
   "cell_type": "code",
   "execution_count": 3,
   "id": "6d08d6bd-13bf-46f1-8f03-f9a152469935",
   "metadata": {},
   "outputs": [
    {
     "name": "stdout",
     "output_type": "stream",
     "text": [
      "True\n",
      "False\n"
     ]
    }
   ],
   "source": [
    "# Example usage:\n",
    "sol = Solution()\n",
    "print(sol.isValid(\"{[()]}\"))  \n",
    "print(sol.isValid(\"{[(])}\"))  \n"
   ]
  }
 ],
 "metadata": {
  "kernelspec": {
   "display_name": "Python 3",
   "language": "python",
   "name": "python3"
  },
  "language_info": {
   "codemirror_mode": {
    "name": "ipython",
    "version": 3
   },
   "file_extension": ".py",
   "mimetype": "text/x-python",
   "name": "python",
   "nbconvert_exporter": "python",
   "pygments_lexer": "ipython3",
   "version": "3.12.0"
  }
 },
 "nbformat": 4,
 "nbformat_minor": 5
}

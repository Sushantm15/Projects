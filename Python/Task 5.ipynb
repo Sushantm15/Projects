{
 "cells": [
  {
   "cell_type": "code",
   "execution_count": 1,
   "id": "0005d1f5-a8dd-4387-adb2-55d3de569cc6",
   "metadata": {},
   "outputs": [],
   "source": [
    "#Group Anagrams"
   ]
  },
  {
   "cell_type": "code",
   "execution_count": 2,
   "id": "77b4564a-3e57-4b0e-9ba0-7ade566d3b07",
   "metadata": {},
   "outputs": [],
   "source": [
    "def group_anagrams(words: list) -> list:\n",
    "    anagram_dict = {}  \n",
    "\n",
    "    for word in words:\n",
    "        sorted_word = \"\".join(sorted(word)) \n",
    "        if sorted_word in anagram_dict:\n",
    "            anagram_dict[sorted_word].append(word)\n",
    "        else:\n",
    "            anagram_dict[sorted_word] = [word]\n",
    "\n",
    "    return list(anagram_dict.values())"
   ]
  },
  {
   "cell_type": "code",
   "execution_count": 3,
   "id": "20ac45e2-b080-4211-a8c3-96aaa651be89",
   "metadata": {},
   "outputs": [
    {
     "name": "stdout",
     "output_type": "stream",
     "text": [
      "[['eat', 'tea', 'ate'], ['tan', 'nat'], ['bat']]\n"
     ]
    }
   ],
   "source": [
    "# Example usage\n",
    "words = [\"eat\", \"tea\", \"tan\", \"ate\", \"nat\", \"bat\"]\n",
    "print(group_anagrams(words))"
   ]
  }
 ],
 "metadata": {
  "kernelspec": {
   "display_name": "Python 3 (ipykernel)",
   "language": "python",
   "name": "python3"
  },
  "language_info": {
   "codemirror_mode": {
    "name": "ipython",
    "version": 3
   },
   "file_extension": ".py",
   "mimetype": "text/x-python",
   "name": "python",
   "nbconvert_exporter": "python",
   "pygments_lexer": "ipython3",
   "version": "3.11.7"
  }
 },
 "nbformat": 4,
 "nbformat_minor": 5
}

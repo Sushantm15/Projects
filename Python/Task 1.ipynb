{
 "cells": [
  {
   "cell_type": "code",
   "execution_count": 1,
   "id": "3d91f6b7-e30c-40e1-a6f9-c04277419363",
   "metadata": {},
   "outputs": [],
   "source": [
    "#Find the Missing Number in an Array"
   ]
  },
  {
   "cell_type": "code",
   "execution_count": 2,
   "id": "5ac5c21f-56b7-4ba5-91a0-fbdb1a387c6d",
   "metadata": {},
   "outputs": [],
   "source": [
    "def find_missing_number(arr):\n",
    "    total_sum = len(arr) * (len(arr) + 1) // 2\n",
    "    return total_sum - sum(arr)"
   ]
  },
  {
   "cell_type": "code",
   "execution_count": 3,
   "id": "8d686309-2a6e-4e91-bc2d-3664bb709e25",
   "metadata": {},
   "outputs": [
    {
     "name": "stdout",
     "output_type": "stream",
     "text": [
      "2\n"
     ]
    }
   ],
   "source": [
    "# Example usage\n",
    "arr = [3, 0, 1]\n",
    "print(find_missing_number(arr))"
   ]
  }
 ],
 "metadata": {
  "kernelspec": {
   "display_name": "Python 3",
   "language": "python",
   "name": "python3"
  },
  "language_info": {
   "codemirror_mode": {
    "name": "ipython",
    "version": 3
   },
   "file_extension": ".py",
   "mimetype": "text/x-python",
   "name": "python",
   "nbconvert_exporter": "python",
   "pygments_lexer": "ipython3",
   "version": "3.12.0"
  }
 },
 "nbformat": 4,
 "nbformat_minor": 5
}

{
 "cells": [
  {
   "cell_type": "code",
   "execution_count": null,
   "id": "4e18044e-3908-453a-a8c9-450bb6e9b651",
   "metadata": {},
   "outputs": [],
   "source": [
    "#Longest Consecutive Sequence"
   ]
  },
  {
   "cell_type": "code",
   "execution_count": null,
   "id": "79071a3b-141d-4b6e-90b2-941060116195",
   "metadata": {},
   "outputs": [],
   "source": [
    "def longestConsecutive(arr):\n",
    "    st = set()\n",
    "    res = 0\n",
    "\n",
    "    # Hash all the array elements\n",
    "    for val in arr:\n",
    "        st.add(val)\n",
    "\n",
    "    # Check each possible sequence from the start then update length\n",
    "    for val in arr:\n",
    "\n",
    "        # If current element is the starting element of a sequence\n",
    "        if val in st and (val - 1) not in st:\n",
    "\n",
    "            # Then check for next elements in the sequence\n",
    "            cur = val\n",
    "            cnt = 0\n",
    "            while cur in st:\n",
    "\n",
    "                # Remove this number to avoid recomputation\n",
    "                st.remove(cur)\n",
    "                cur += 1\n",
    "                cnt += 1\n",
    "\n",
    "            # Update optimal length\n",
    "            res = max(res, cnt)\n",
    "\n",
    "    return res\n",
    "\n",
    "    arr = [2, 6, 1, 9, 4, 5, 3]\n",
    "    print(longestConsecutive(arr))"
   ]
  }
 ],
 "metadata": {
  "kernelspec": {
   "display_name": "Python 3 (ipykernel)",
   "language": "python",
   "name": "python3"
  },
  "language_info": {
   "codemirror_mode": {
    "name": "ipython",
    "version": 3
   },
   "file_extension": ".py",
   "mimetype": "text/x-python",
   "name": "python",
   "nbconvert_exporter": "python",
   "pygments_lexer": "ipython3",
   "version": "3.11.7"
  }
 },
 "nbformat": 4,
 "nbformat_minor": 5
}

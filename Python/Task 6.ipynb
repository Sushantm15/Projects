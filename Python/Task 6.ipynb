{
 "cells": [
  {
   "cell_type": "code",
   "execution_count": 1,
   "id": "7b4f518b-d805-4e15-898c-4c0f9a13ad51",
   "metadata": {},
   "outputs": [],
   "source": [
    "#Find Kth Largest Element in an Array"
   ]
  },
  {
   "cell_type": "code",
   "execution_count": 2,
   "id": "c737e151-a9d4-4453-8d12-e61d02701bcd",
   "metadata": {},
   "outputs": [],
   "source": [
    "def kth_largest(arr, K):\n",
    "    arr.sort(reverse=True)\n",
    "    return nums[k - 1]"
   ]
  },
  {
   "cell_type": "code",
   "execution_count": 4,
   "id": "7175caaf-1e20-4de1-a560-829264746787",
   "metadata": {},
   "outputs": [
    {
     "name": "stdout",
     "output_type": "stream",
     "text": [
      "5\n"
     ]
    }
   ],
   "source": [
    "# Example usage\n",
    "nums = [3, 2, 1, 5, 6, 4]\n",
    "k = 2\n",
    "print(kth_largest(nums, k)) "
   ]
  }
 ],
 "metadata": {
  "kernelspec": {
   "display_name": "Python 3 (ipykernel)",
   "language": "python",
   "name": "python3"
  },
  "language_info": {
   "codemirror_mode": {
    "name": "ipython",
    "version": 3
   },
   "file_extension": ".py",
   "mimetype": "text/x-python",
   "name": "python",
   "nbconvert_exporter": "python",
   "pygments_lexer": "ipython3",
   "version": "3.11.7"
  }
 },
 "nbformat": 4,
 "nbformat_minor": 5
}
